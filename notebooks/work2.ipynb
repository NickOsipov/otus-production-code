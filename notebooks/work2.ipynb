{
 "cells": [
  {
   "cell_type": "code",
   "execution_count": 1,
   "metadata": {},
   "outputs": [
    {
     "name": "stdout",
     "output_type": "stream",
     "text": [
      "/home/ono/otus/otus-production-code/notebooks\n"
     ]
    }
   ],
   "source": [
    "!pwd"
   ]
  },
  {
   "cell_type": "code",
   "execution_count": 1,
   "metadata": {},
   "outputs": [
    {
     "name": "stdout",
     "output_type": "stream",
     "text": [
      "/app/notebooks\n"
     ]
    }
   ],
   "source": [
    "!pwd"
   ]
  },
  {
   "cell_type": "code",
   "execution_count": 2,
   "metadata": {},
   "outputs": [],
   "source": [
    "a = \"1\"\n",
    "\n",
    "print(a, file=open(\"test.txt\", \"a\", encoding=\"utf-8\"))"
   ]
  },
  {
   "cell_type": "code",
   "execution_count": 5,
   "metadata": {},
   "outputs": [
    {
     "name": "stdout",
     "output_type": "stream",
     "text": [
      "total 152\n",
      "drwxrwxr-x  3 1000 1000   4096 Aug 27 18:29 .\n",
      "drwxrwxr-x 14 1000 1000   4096 Aug 27 18:24 ..\n",
      "drwxr-xr-x  2 root root   4096 Aug 27 18:28 .ipynb_checkpoints\n",
      "-rw-rw-r--  1 1000 1000 129173 Aug 20 18:16 iris.ipynb\n",
      "-rw-r--r--  1 root root      2 Aug 27 18:29 test.txt\n",
      "-rw-rw-r--  1 1000 1000   1652 Aug 27 18:17 work.ipynb\n",
      "-rw-rw-r--  1 1000 1000    826 Aug 27 18:17 work2.ipynb\n"
     ]
    }
   ],
   "source": [
    "!ls -la"
   ]
  },
  {
   "cell_type": "code",
   "execution_count": null,
   "metadata": {},
   "outputs": [],
   "source": []
  }
 ],
 "metadata": {
  "kernelspec": {
   "display_name": "Python 3 (ipykernel)",
   "language": "python",
   "name": "python3"
  },
  "language_info": {
   "codemirror_mode": {
    "name": "ipython",
    "version": 3
   },
   "file_extension": ".py",
   "mimetype": "text/x-python",
   "name": "python",
   "nbconvert_exporter": "python",
   "pygments_lexer": "ipython3",
   "version": "3.11.4"
  }
 },
 "nbformat": 4,
 "nbformat_minor": 4
}
